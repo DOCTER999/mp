{
 "cells": [
  {
   "cell_type": "markdown",
   "metadata": {},
   "source": [
    "# 用柱形图进行对比分析"
   ]
  },
  {
   "cell_type": "markdown",
   "metadata": {},
   "source": [
    "### 1. 初始设置\n",
    "\n",
    "首先，导入所需的库，并设置中文字体等。"
   ]
  },
  {
   "cell_type": "code",
   "execution_count": 1,
   "metadata": {},
   "outputs": [],
   "source": [
    "# 导入所需的库\n",
    "import numpy as np\n",
    "import pandas as pd\n",
    "import matplotlib as mpl\n",
    "import matplotlib.pyplot as plt\n",
    "import matplotlib.image as image\n",
    "\n",
    "# 正常显示中文标签\n",
    "mpl.rcParams['font.sans-serif'] = ['SimHei']\n",
    "\n",
    "# 自动适应布局\n",
    "mpl.rcParams.update({'figure.autolayout': True})\n",
    "\n",
    "# 正常显示负号\n",
    "mpl.rcParams['axes.unicode_minus'] = False\n",
    "\n",
    "# 定义颜色，主色：蓝色，辅助色：绿色，互补色：橙色\n",
    "colors = {'蓝色':'#00589F', '深蓝':'#003867', '浅蓝':'#5D9BCF',\n",
    "          '绿色':'#00A865', '深绿':'#006D51', '浅绿':'#5FD3A5',\n",
    "          '橙色':'#F68F00', '深橙':'#A05D00', '浅橙':'#FBC171'}"
   ]
  },
  {
   "cell_type": "markdown",
   "metadata": {},
   "source": [
    "### 2. 定义数据"
   ]
  },
  {
   "cell_type": "code",
   "execution_count": 2,
   "metadata": {},
   "outputs": [],
   "source": [
    "# 定义几个模拟的数据\n",
    "df = pd.DataFrame({'产品':['产品 A', '产品 B', '产品 C'], '销售额':[66.6, 21.2, 13.5]})\n",
    "\n",
    "# 画图用的数据定义\n",
    "x = df['产品']\n",
    "y = df['销售额']\n",
    "\n",
    "# 平均值\n",
    "avg = y.mean()"
   ]
  },
  {
   "cell_type": "markdown",
   "metadata": {},
   "source": [
    "### 3. 开始画图\n",
    "\n",
    "用「**面向对象**」的方法画图。"
   ]
  },
  {
   "cell_type": "code",
   "execution_count": 3,
   "metadata": {},
   "outputs": [
    {
     "data": {
      "image/png": "[encoded data removed]",
      "text/plain": [
       "<Figure size 576x432 with 1 Axes>"
      ]
     },
     "metadata": {
      "needs_background": "light"
     },
     "output_type": "display_data"
    }
   ],
   "source": [
    "# 使用「面向对象」的方法画图\n",
    "fig, ax = plt.subplots(figsize=(8, 6))\n",
    "\n",
    "# 设置标题和坐标轴标签\n",
    "ax.set_title(\"\\n产品 A 的销售额是 B 的 3.1 倍\\n\", fontsize=26, verticalalignment='bottom')\n",
    "\n",
    "# 画柱形图\n",
    "ax.bar(x, y, width=0.66, color=colors['蓝色'])\n",
    "\n",
    "# 平均值线\n",
    "lc = ax.hlines(avg, -0.5, 2.5, color=colors['浅蓝'], label='平均值', ls='--')\n",
    "# 设置线条宽度\n",
    "lc.set_linewidth(2)\n",
    "# 文字标注平均值\n",
    "ax.text(2, avg+2, \"平均值：%.1f\" % avg, fontsize=20, ha='center')\n",
    "\n",
    "# 用双箭头强调对比的关系\n",
    "ax.annotate('', xy=(0.5, df.iloc[0, 1]), xytext=(0.5, df.iloc[1, 1]), arrowprops=dict(arrowstyle='<->', color=colors['浅蓝'], lw=3))\n",
    "# 文字标注两个柱形图的倍数关系\n",
    "ax.text(0.55, y[:2].mean(), \"%.1f 倍\" % (y[0] / y[1]), fontsize=20)\n",
    "\n",
    "# 设置数据标签\n",
    "for a, b in zip(x, y):\n",
    "    plt.text(a, b-5, '%.1f' % b, ha='center', va= 'bottom', fontsize=20, color='w')\n",
    "\n",
    "# 隐藏边框\n",
    "ax.spines['top'].set_visible(False)\n",
    "ax.spines['right'].set_visible(False)\n",
    "ax.spines['bottom'].set_visible(False)\n",
    "ax.spines['left'].set_visible(False)\n",
    "\n",
    "# 隐藏 X 轴的刻度线\n",
    "ax.tick_params(axis='x', which='major', length=0)\n",
    "\n",
    "# 隐藏 Y 轴刻度\n",
    "ax.set_yticks([])\n",
    "\n",
    "# 设置坐标标签字体大小\n",
    "ax.tick_params(labelsize=20)\n",
    "\n",
    "plt.show()"
   ]
  },
  {
   "cell_type": "code",
   "execution_count": null,
   "metadata": {},
   "outputs": [],
   "source": []
  }
 ],
 "metadata": {
  "file_extension": ".py",
  "kernelspec": {
   "display_name": "Python 3.7.0 64-bit",
   "language": "python",
   "name": "python37064bit2965220bd7d04cdebdae4cbe7c63b822"
  },
  "language_info": {
   "codemirror_mode": {
    "name": "ipython",
    "version": 3
   },
   "file_extension": ".py",
   "mimetype": "text/x-python",
   "name": "python",
   "nbconvert_exporter": "python",
   "pygments_lexer": "ipython3",
   "version": "3.7.0"
  },
  "mimetype": "text/x-python",
  "name": "python",
  "npconvert_exporter": "python",
  "pygments_lexer": "ipython3",
  "version": 3
 },
 "nbformat": 4,
 "nbformat_minor": 4
}
